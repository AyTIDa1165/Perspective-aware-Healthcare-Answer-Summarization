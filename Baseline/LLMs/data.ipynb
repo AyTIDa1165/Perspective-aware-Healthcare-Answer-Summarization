{
 "cells": [
  {
   "cell_type": "code",
   "execution_count": 2,
   "metadata": {},
   "outputs": [],
   "source": [
    "import json\n",
    "import torch\n",
    "from torch.utils.data import Dataset, DataLoader\n",
    "from google import genai\n",
    "import os\n",
    "from dotenv import load_dotenv"
   ]
  },
  {
   "cell_type": "code",
   "execution_count": 5,
   "metadata": {},
   "outputs": [],
   "source": [
    "class CustomJSONDataset(Dataset):\n",
    "    def __init__(self, file_path):\n",
    "        with open(file_path, 'r') as f:\n",
    "            self.data = json.load(f)\n",
    "    \n",
    "    def __len__(self):\n",
    "        return len(self.data)\n",
    "    \n",
    "    def __getitem__(self, idx):\n",
    "        return self.data[idx]"
   ]
  },
  {
   "cell_type": "code",
   "execution_count": null,
   "metadata": {},
   "outputs": [],
   "source": [
    "prompt_dict = {''}\n",
    "\n",
    "prompt = f'''Summarize the following content according to Perspective: {perspective}; \n",
    "            {perspective} Definition: {definition}\n",
    "            Begin Summary with: {anchor_text} \n",
    "            Tone of summary: {tone}\n",
    "            Content to summarize: {content}\n",
    "            Associated question: {question}'''"
   ]
  },
  {
   "cell_type": "code",
   "execution_count": null,
   "metadata": {},
   "outputs": [
    {
     "name": "stdout",
     "output_type": "stream",
     "text": [
      "{'uri': ['528339'], 'question': ['Is there ANY way to get bad smell out of shoes/boots???'], 'context': [\"My husbands work boots smell terrible from foot odor, is there anything that I can use to make the smell go away??? Or should I just break down and buy new boots? I tried the Dr. Scholls foot powder but it doesn't work.\"], 'answers': [(\"Try this...Put them in a zip lock bag and then in the freezer...yes the freezer.....Bacteria that causes the bad smell can't live in freezing temperatures.....thats why the smell of sneakers and shoes is worse in the summer...Try it ..!!!   Works for sneakers and house slippers too...\",), ('baking soda and baby powder.',), ('Place them in sun light after use for sometime..... the best ....',), ('air freshner',)], 'labelled_answer_spans': {'SUGGESTION': [{'txt': [\"Try this...Put them in a zip lock bag and then in the freezer...yes the freezer.....Bacteria that causes the bad smell can't live in freezing temperatures.....thats why the smell of sneakers and shoes is worse in the summer...Try it ..!!!   Works for sneakers and house slippers too\"], 'label_spans': [tensor([317]), tensor([599])]}, {'txt': ['Place them in sun light after use for sometime..... the best'], 'label_spans': [tensor([652]), tensor([712])]}], 'INFORMATION': [{'txt': [': baking soda and baby powder.'], 'label_spans': [tensor([611]), tensor([641])]}, {'txt': ['air freshner'], 'label_spans': [tensor([728]), tensor([740])]}, {'txt': [\"Bacteria that causes the bad smell can't live in freezing temperatures.....thats why the smell of sneakers and shoes is worse in the summer\"], 'label_spans': [tensor([401]), tensor([540])]}]}, 'labelled_summaries': {'INFORMATION_SUMMARY': ['Baking soda, baby powder, and air freshener can help reduce the smell of shoes/ Bacteria that causes the bad smell can not survive in freezing temperatures that is why they smell worse in the summer.'], 'SUGGESTION_SUMMARY': ['To tackle unpleasant odors in sneakers, shoes, or house slippers, a suggested method is to place them in a zip-lock bag and then into the freezer. The rationale is that freezing temperatures prevent the bacteria responsible for bad smells from surviving. This approach is recommended, particularly during the summer when the smell tends to worsen. Additionally, exposing the footwear to sunlight after use is advised. Trying this method may help effectively address and eliminate undesirable odors, making it a practical solution for maintaining freshness in various types of footwear.']}, 'raw_text': [\"uri: 528339\\nquestion: Is there ANY way to get bad smell out of shoes/boots???\\ncontext: My husbands work boots smell terrible from foot odor, is there anything that I can use to make the smell go away??? Or should I just break down and buy new boots? I tried the Dr. Scholls foot powder but it doesn't work.\\nanswer_0: Try this...Put them in a zip lock bag and then in the freezer...yes the freezer.....Bacteria that causes the bad smell can't live in freezing temperatures.....thats why the smell of sneakers and shoes is worse in the summer...Try it ..!!!   Works for sneakers and house slippers too...\\nanswer_1: baking soda and baby powder.\\nanswer_2: Place them in sun light after use for sometime..... the best ....\\nanswer_3: air freshner\\nINFORMATION_GROUP: : baking soda and baby powder..air freshner.Bacteria that causes the bad smell can't live in freezing temperatures.....thats why the smell of sneakers and shoes is worse in the summer\\n\\nSUGGESTION_GROUP: Try this...Put them in a zip lock bag and then in the freezer...yes the freezer.....Bacteria that causes the bad smell can't live in freezing temperatures.....thats why the smell of sneakers and shoes is worse in the summer...Try it ..!!!   Works for sneakers and house slippers too.Place them in sun light after use for sometime..... the best\\n\"]}\n",
      "SUGGESTION\n",
      "[{'txt': [\"Try this...Put them in a zip lock bag and then in the freezer...yes the freezer.....Bacteria that causes the bad smell can't live in freezing temperatures.....thats why the smell of sneakers and shoes is worse in the summer...Try it ..!!!   Works for sneakers and house slippers too\"], 'label_spans': [tensor([317]), tensor([599])]}, {'txt': ['Place them in sun light after use for sometime..... the best'], 'label_spans': [tensor([652]), tensor([712])]}]\n",
      "-----------------------------------------------------------------\n",
      "INFORMATION\n",
      "[{'txt': [': baking soda and baby powder.'], 'label_spans': [tensor([611]), tensor([641])]}, {'txt': ['air freshner'], 'label_spans': [tensor([728]), tensor([740])]}, {'txt': [\"Bacteria that causes the bad smell can't live in freezing temperatures.....thats why the smell of sneakers and shoes is worse in the summer\"], 'label_spans': [tensor([401]), tensor([540])]}]\n",
      "-----------------------------------------------------------------\n"
     ]
    }
   ],
   "source": [
    "# Path to your JSON file\n",
    "file_path = '../../Dataset/test.json'\n",
    "\n",
    "# Initialize Dataset and DataLoader\n",
    "dataset = CustomJSONDataset(file_path)\n",
    "dataloader = DataLoader(dataset, batch_size=1, shuffle=42)\n",
    "\n",
    "# Get the first data point\n",
    "first_data_point = next(iter(dataloader))\n",
    "uri = first_data_point['uri']\n",
    "question = first_data_point['question']\n",
    "spans = first_data_point['labelled_answer_spans']\n",
    "\n",
    "print(first_data_point)\n",
    "spans = first_data_point['labelled_answer_spans']\n",
    "for key, value in spans.items():\n",
    "    print(key)\n",
    "    print(value)\n",
    "    print(\"-----------------------------------------------------------------\")\n"
   ]
  },
  {
   "cell_type": "code",
   "execution_count": 35,
   "metadata": {},
   "outputs": [
    {
     "name": "stdout",
     "output_type": "stream",
     "text": [
      "640\n"
     ]
    }
   ],
   "source": [
    "print(dataset.__len__())"
   ]
  },
  {
   "cell_type": "code",
   "execution_count": 3,
   "metadata": {},
   "outputs": [
    {
     "name": "stdout",
     "output_type": "stream",
     "text": [
      "AI learns from data to make decisions or predictions. \n",
      "\n",
      "(Essentially, it finds patterns and uses them!)\n",
      "\n",
      "\n",
      "\n",
      "\n"
     ]
    }
   ],
   "source": [
    "load_dotenv()\n",
    "GEMINI_API_KEY = os.getenv(\"GEMINI_API_KEY\")\n",
    "\n",
    "client = genai.Client(api_key=GEMINI_API_KEY)\n",
    "\n",
    "response = client.models.generate_content(\n",
    "    model=\"gemma-3-27b-it\", contents=\"Explain how AI works in a few words\"\n",
    ")\n",
    "print(response.text)"
   ]
  },
  {
   "cell_type": "code",
   "execution_count": null,
   "metadata": {},
   "outputs": [],
   "source": []
  }
 ],
 "metadata": {
  "kernelspec": {
   "display_name": "myenv",
   "language": "python",
   "name": "python3"
  },
  "language_info": {
   "codemirror_mode": {
    "name": "ipython",
    "version": 3
   },
   "file_extension": ".py",
   "mimetype": "text/x-python",
   "name": "python",
   "nbconvert_exporter": "python",
   "pygments_lexer": "ipython3",
   "version": "3.12.5"
  }
 },
 "nbformat": 4,
 "nbformat_minor": 2
}
