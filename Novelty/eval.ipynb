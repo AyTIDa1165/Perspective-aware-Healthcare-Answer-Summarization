{
 "cells": [
  {
   "cell_type": "code",
   "execution_count": 29,
   "id": "3b590fd1",
   "metadata": {},
   "outputs": [],
   "source": [
    "import pandas as pd\n",
    "import numpy as np\n",
    "import evaluate\n",
    "from rouge import Rouge\n",
    "from nltk.translate.bleu_score import sentence_bleu, SmoothingFunction\n",
    "from nltk.translate.meteor_score import single_meteor_score\n",
    "from bert_score import score as bert_score\n",
    "from tabulate import tabulate"
   ]
  },
  {
   "cell_type": "code",
   "execution_count": 30,
   "id": "483ee983",
   "metadata": {},
   "outputs": [],
   "source": [
    "MODEL_NAME = \"gemma\""
   ]
  },
  {
   "cell_type": "code",
   "execution_count": 31,
   "id": "a40acfb2",
   "metadata": {},
   "outputs": [],
   "source": [
    "class EvaluationMetrics:\n",
    "    def __init__(self, predictions, references):\n",
    "        self.predictions = predictions\n",
    "        self.references = references\n",
    "\n",
    "    def compute_rouge_score(self):\n",
    "        rouge = Rouge()\n",
    "        rouge_l_f1, rouge_l_recall, rouge_l_precision = [], [], []\n",
    "        rouge_1_f1, rouge_1_recall, rouge_1_precision = [], [], []\n",
    "        rouge_2_f1, rouge_2_recall, rouge_2_precision = [], [], []\n",
    "        \n",
    "        for prediction, reference in zip(self.predictions, self.references):\n",
    "            scores = rouge.get_scores(prediction, reference)[0]\n",
    "            \n",
    "            rouge_l_f1.append(scores[\"rouge-l\"][\"f\"])\n",
    "            rouge_l_recall.append(scores[\"rouge-l\"][\"r\"])\n",
    "            rouge_l_precision.append(scores[\"rouge-l\"][\"p\"])\n",
    "            \n",
    "            rouge_1_f1.append(scores[\"rouge-1\"][\"f\"])\n",
    "            rouge_1_recall.append(scores[\"rouge-1\"][\"r\"])\n",
    "            rouge_1_precision.append(scores[\"rouge-1\"][\"p\"])\n",
    "            \n",
    "            rouge_2_f1.append(scores[\"rouge-2\"][\"f\"])\n",
    "            rouge_2_recall.append(scores[\"rouge-2\"][\"r\"])\n",
    "            rouge_2_precision.append(scores[\"rouge-2\"][\"p\"])\n",
    "\n",
    "        results = {\n",
    "            \"ROUGE-1 F1\": np.mean(rouge_1_f1) * 100,\n",
    "            \"ROUGE-2 F1\": np.mean(rouge_2_f1) * 100,\n",
    "            \"ROUGE-L F1\": np.mean(rouge_l_f1) * 100\n",
    "        }\n",
    "        return results\n",
    "\n",
    "    def compute_meteor_score(self):\n",
    "        meteor = evaluate.load('meteor')\n",
    "        scores = [\n",
    "            meteor.compute(predictions=[pred], references=[ref])[\"meteor\"]\n",
    "            for pred, ref in zip(self.predictions, self.references)\n",
    "        ]\n",
    "        return {\"METEOR\": np.mean(scores)}\n",
    "\n",
    "    def compute_bleu_scores(self):\n",
    "        smoothie = SmoothingFunction().method4\n",
    "        bleu_4 = []\n",
    "        for pred, ref in zip(self.predictions, self.references):\n",
    "            bleu_4.append(\n",
    "                sentence_bleu([ref.split()], pred.split(), weights=(0.25, 0.25, 0.25, 0.25), smoothing_function=smoothie)\n",
    "            )\n",
    "        return {\"BLEU-4\": np.mean(bleu_4)}\n",
    "\n",
    "    def compute_bertscore(self, lang=\"en\"):\n",
    "        P, R, F1 = bert_score(self.predictions, self.references, lang=lang)\n",
    "        return {\"BERTScore F1\": F1.mean().item()}"
   ]
  },
  {
   "cell_type": "code",
   "execution_count": 32,
   "id": "893fcc1d",
   "metadata": {},
   "outputs": [
    {
     "name": "stderr",
     "output_type": "stream",
     "text": [
      "[nltk_data] Downloading package wordnet to\n",
      "[nltk_data]     C:\\Users\\Aditya\\AppData\\Roaming\\nltk_data...\n",
      "[nltk_data]   Package wordnet is already up-to-date!\n",
      "[nltk_data] Downloading package punkt_tab to\n",
      "[nltk_data]     C:\\Users\\Aditya\\AppData\\Roaming\\nltk_data...\n",
      "[nltk_data]   Package punkt_tab is already up-to-date!\n",
      "[nltk_data] Downloading package omw-1.4 to\n",
      "[nltk_data]     C:\\Users\\Aditya\\AppData\\Roaming\\nltk_data...\n",
      "[nltk_data]   Package omw-1.4 is already up-to-date!\n",
      "Some weights of RobertaModel were not initialized from the model checkpoint at roberta-large and are newly initialized: ['pooler.dense.bias', 'pooler.dense.weight']\n",
      "You should probably TRAIN this model on a down-stream task to be able to use it for predictions and inference.\n"
     ]
    },
    {
     "name": "stdout",
     "output_type": "stream",
     "text": [
      "╒══════════════╤═════════╕\n",
      "│ Metric       │   Score │\n",
      "╞══════════════╪═════════╡\n",
      "│ ROUGE-1 F1   │ 27.1679 │\n",
      "├──────────────┼─────────┤\n",
      "│ ROUGE-2 F1   │  8.5591 │\n",
      "├──────────────┼─────────┤\n",
      "│ ROUGE-L F1   │ 24.4605 │\n",
      "├──────────────┼─────────┤\n",
      "│ METEOR       │  0.3449 │\n",
      "├──────────────┼─────────┤\n",
      "│ BLEU-4       │  0.0441 │\n",
      "├──────────────┼─────────┤\n",
      "│ BERTScore F1 │  0.8741 │\n",
      "╘══════════════╧═════════╛\n"
     ]
    }
   ],
   "source": [
    "# Load CSV file\n",
    "df = pd.read_csv(f\"../Output/predictions_{MODEL_NAME}.csv\")\n",
    "# Drop rows with NaNs in output or reference\n",
    "df = df.dropna(subset=[\"output\", \"reference\"])\n",
    "\n",
    "# Get predictions and references\n",
    "predictions = df[\"output\"].astype(str).tolist()\n",
    "references = df[\"reference\"].astype(str).tolist()\n",
    "\n",
    "# Run evaluations\n",
    "evaluator = EvaluationMetrics(predictions, references)\n",
    "rouge_scores = evaluator.compute_rouge_score()\n",
    "meteor_score = evaluator.compute_meteor_score()\n",
    "bleu_score = evaluator.compute_bleu_scores()\n",
    "bertscore = evaluator.compute_bertscore(lang=\"en\")\n",
    "\n",
    "summary_table = [\n",
    "    [\"ROUGE-1 F1\", rouge_scores[\"ROUGE-1 F1\"]],\n",
    "    [\"ROUGE-2 F1\", rouge_scores[\"ROUGE-2 F1\"]],\n",
    "    [\"ROUGE-L F1\", rouge_scores[\"ROUGE-L F1\"]],\n",
    "    [\"METEOR\", meteor_score[\"METEOR\"]],\n",
    "    [\"BLEU-4\", bleu_score[\"BLEU-4\"]],\n",
    "    [\"BERTScore F1\", bertscore[\"BERTScore F1\"]],\n",
    "]\n",
    "\n",
    "table_str = tabulate(summary_table, headers=[\"Metric\", \"Score\"], floatfmt=\".4f\", tablefmt=\"fancy_grid\")\n",
    "print(table_str)\n",
    "with open(f'../Results/metrics_{MODEL_NAME}', 'w', encoding='utf-8') as f:\n",
    "    f.write(table_str)"
   ]
  }
 ],
 "metadata": {
  "kernelspec": {
   "display_name": "Python 3",
   "language": "python",
   "name": "python3"
  },
  "language_info": {
   "codemirror_mode": {
    "name": "ipython",
    "version": 3
   },
   "file_extension": ".py",
   "mimetype": "text/x-python",
   "name": "python",
   "nbconvert_exporter": "python",
   "pygments_lexer": "ipython3",
   "version": "3.12.5"
  }
 },
 "nbformat": 4,
 "nbformat_minor": 5
}
